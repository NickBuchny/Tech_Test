{
 "cells": [
  {
   "cell_type": "markdown",
   "metadata": {},
   "source": [
    "# Nicholas Buchny \n",
    "## Technical interview answers\n",
    "\n",
    "Note that test cases and doc string excluded where deemed unimportant. "
   ]
  },
  {
   "cell_type": "code",
   "execution_count": 3,
   "metadata": {
    "ExecuteTime": {
     "end_time": "2018-06-08T01:03:29.172756Z",
     "start_time": "2018-06-08T01:03:29.166679Z"
    }
   },
   "outputs": [],
   "source": [
    "class Rect:\n",
    "    def __init__(self, x, y, height, width):\n",
    "        self.x = x\n",
    "        self.y = y\n",
    "        self.height = height\n",
    "        self.width = width"
   ]
  },
  {
   "cell_type": "code",
   "execution_count": null,
   "metadata": {},
   "outputs": [],
   "source": []
  },
  {
   "cell_type": "code",
   "execution_count": 5,
   "metadata": {
    "ExecuteTime": {
     "end_time": "2018-06-08T01:03:30.583716Z",
     "start_time": "2018-06-08T01:03:30.574532Z"
    }
   },
   "outputs": [],
   "source": [
    "# two rectangles intersect if they share at least 1 common point\n",
    "# they do not intersect if one is above or next to the other (assuming parallel with co-ord axis)\n",
    "\n",
    "def rect_int(r1, r2):\n",
    "    \"\"\" Checks to see if two rectangles overlap\n",
    "    Takes 2 objects and returns a bool, True if they overlap, False otherwise\n",
    "    Assumes Edges part of rectangle \n",
    "    \n",
    "    r1: object, rectange 1, has attributes x, y, height, width \n",
    "    r2: object, rectange 2, has attributes x, y, height, width \n",
    "\n",
    "    returns: bool\n",
    "    Ex: \n",
    "    r1 = rect(0, 0, 10, 10)\n",
    "    r2 = rect(1, 1, 10, 10)\n",
    "    rect_int(r1, r2)\n",
    "    \n",
    "    True\n",
    "    \n",
    "    r1 = rect(0, 0, 10, 10)\n",
    "    r2 = rect(11, 11, 10, 10)\n",
    "    rect_int(r1, r2)\n",
    "    \n",
    "    False\n",
    "    \n",
    "    \"\"\"\n",
    "    # we know 2 rectangles are beside eachother if \n",
    "    # the left side of one rectangle is outside the right side of the other\n",
    "    if (r1.x > r2.x + r2.width or r2.x > r1.x + r1.width):\n",
    "        return False\n",
    "    \n",
    "    # another scenario is that they are above/below one another\n",
    "    elif (r1.y + r1.height < r2.y or r2.y + r2.height < r1.y+r1.height):\n",
    "        return False\n",
    "    \n",
    "    else:\n",
    "        return True\n",
    "    \n",
    "# note could have reduced lines of above but mainted format for readability "
   ]
  },
  {
   "cell_type": "code",
   "execution_count": null,
   "metadata": {},
   "outputs": [],
   "source": []
  },
  {
   "cell_type": "code",
   "execution_count": 33,
   "metadata": {
    "ExecuteTime": {
     "end_time": "2018-06-06T12:07:50.557025Z",
     "start_time": "2018-06-06T12:07:50.554135Z"
    }
   },
   "outputs": [],
   "source": [
    "def sort_list(lst_of_str):\n",
    "    \"\"\" Sorts list alphabetically in reverse. \n",
    "    Built in python method no explantion required. \n",
    "    \n",
    "    \"\"\"\n",
    "    return lst_of_str.sort(reverse=True)"
   ]
  },
  {
   "cell_type": "code",
   "execution_count": 109,
   "metadata": {
    "ExecuteTime": {
     "end_time": "2018-06-08T05:06:59.160337Z",
     "start_time": "2018-06-08T05:06:59.150827Z"
    }
   },
   "outputs": [],
   "source": [
    "import numpy as np\n",
    "\n",
    "def createSpiral(N):\n",
    "    \"\"\" Takes a positive integer N and constructs NxN counter clockwise spiral \n",
    "    \n",
    "    N: (int), dimension for the box \n",
    "    \n",
    "    Returns: NxN array \n",
    "    \"\"\"\n",
    "    if N < 1 or type(N) is not int: \n",
    "        return np.array()\n",
    "    else:\n",
    "        # initiate numpy array of ones\n",
    "        n = np.ones((N, N))\n",
    "        \n",
    "        # array from 1 to N to get our spiral values\n",
    "        l = np.arange(1, N*N + 1)\n",
    "        \n",
    "        m = n\n",
    "        i = 0\n",
    "\n",
    "        while True:\n",
    "            try:\n",
    "                # find out the length of our addition to the array\n",
    "                s = m.shape[1]\n",
    "#                 print(s)\n",
    "#                 print(m)\n",
    "\n",
    "                # set the values of the row to the next arm of the spiral \n",
    "                m[0, :] = l[i:i + s]\n",
    "                \n",
    "                # iterate forward by the length of the row\n",
    "                i += s\n",
    "                \n",
    "                # rotate and get next row for n\n",
    "                m = np.rot90(m[1:, :])\n",
    "#                print(n)\n",
    "#                print(m)            \n",
    "            except IndexError:\n",
    "                break\n",
    "    return n\n",
    "\n"
   ]
  },
  {
   "cell_type": "code",
   "execution_count": null,
   "metadata": {},
   "outputs": [],
   "source": []
  },
  {
   "cell_type": "code",
   "execution_count": 112,
   "metadata": {
    "ExecuteTime": {
     "end_time": "2018-06-08T09:59:38.135424Z",
     "start_time": "2018-06-08T09:59:38.129276Z"
    }
   },
   "outputs": [],
   "source": [
    "import datetime\n",
    "def t_readable(s):\n",
    "    \"\"\" Easily done using a python built in module. \n",
    "    \n",
    "    s: seconds (int)\n",
    "    \n",
    "    returns date in format: (HH:MM:SS)\n",
    "    \n",
    "    Example:\n",
    "    t_readable(359999)\n",
    "    '99:59:59'\n",
    "    to_readable(0)\n",
    "    '00:00:00'\n",
    "    \"\"\"\n",
    "    # divmod takes two numbers and returns a tuple (quotient, remainder)\n",
    "    # find out how many hours their are and get any remaining seconds\n",
    "    h, r =  divmod(s, 3600)\n",
    "    # find out how many minutes and get remaining seconds\n",
    "    m, s = divmod(r, 60)\n",
    "    \n",
    "    # return in readable format\n",
    "    return( '%02d:%02d:%02d' % (h, m, s))\n",
    "    "
   ]
  },
  {
   "cell_type": "code",
   "execution_count": 114,
   "metadata": {
    "ExecuteTime": {
     "end_time": "2018-06-08T09:59:48.597383Z",
     "start_time": "2018-06-08T09:59:48.590657Z"
    }
   },
   "outputs": [
    {
     "data": {
      "text/plain": [
       "'00:00:00'"
      ]
     },
     "execution_count": 114,
     "metadata": {},
     "output_type": "execute_result"
    }
   ],
   "source": [
    "to_readable(0)"
   ]
  },
  {
   "cell_type": "code",
   "execution_count": null,
   "metadata": {},
   "outputs": [],
   "source": []
  },
  {
   "cell_type": "code",
   "execution_count": null,
   "metadata": {},
   "outputs": [],
   "source": []
  }
 ],
 "metadata": {
  "kernelspec": {
   "display_name": "Python 3",
   "language": "python",
   "name": "python3"
  },
  "language_info": {
   "codemirror_mode": {
    "name": "ipython",
    "version": 3
   },
   "file_extension": ".py",
   "mimetype": "text/x-python",
   "name": "python",
   "nbconvert_exporter": "python",
   "pygments_lexer": "ipython3",
   "version": "3.5.2"
  }
 },
 "nbformat": 4,
 "nbformat_minor": 2
}
